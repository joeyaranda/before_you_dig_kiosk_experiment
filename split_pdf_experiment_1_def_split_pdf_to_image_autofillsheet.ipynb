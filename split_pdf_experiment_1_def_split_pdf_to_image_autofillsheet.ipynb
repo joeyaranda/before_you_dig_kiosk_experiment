{
 "cells": [
  {
   "cell_type": "code",
   "execution_count": 1,
   "id": "4685b20e",
   "metadata": {},
   "outputs": [],
   "source": [
    "import os\n",
    "import PyPDF2\n",
    "from PyPDF2 import PdfFileWriter, PdfFileReader\n",
    "import fitz\n",
    "import collections\n",
    "import zipfile\n",
    "import pandas as pd\n",
    "import shutil\n",
    "import getpass\n",
    "import openpyxl\n",
    "from openpyxl import load_workbook"
   ]
  },
  {
   "cell_type": "code",
   "execution_count": 2,
   "id": "6bdfc14e",
   "metadata": {},
   "outputs": [],
   "source": [
    "peruserdir = \"C:\\\\Users\\\\JoeyAranda\\\\OneDrive - Reveal Infrastructure\\\\test\\\\per_user\"\n",
    "list_df = []\n",
    "for dirpath, dirnames, filenames in os.walk(peruserdir):\n",
    "    for f in filenames:\n",
    "        read_xlsx = pd.read_excel(os.path.join(dirpath,f))\n",
    "        list_df.append(read_xlsx)\n",
    "\n",
    "result = pd.concat(list_df)\n",
    "\n",
    "update = []\n",
    "for k in range(len(result)):\n",
    "    update.append([result[\"BYD Request Number\"].iloc[k],result[\"Plan Name\"].iloc[k],result[\"NUO\"].iloc[k],result[\"User\"].iloc[k]])\n",
    "\n",
    "workbook_name = \"C:\\\\Users\\\\JoeyAranda\\\\OneDrive - Reveal Infrastructure\\\\test\\\\BYD_PointChev Tracker [BETA].xlsx\"\n",
    "wb = load_workbook(workbook_name)\n",
    "page = wb.worksheets[-2]\n",
    "\n",
    "for info in update:\n",
    "    page.append(info)\n",
    "wb.save(filename=workbook_name)"
   ]
  },
  {
   "cell_type": "code",
   "execution_count": null,
   "id": "4f3e0e7f",
   "metadata": {},
   "outputs": [],
   "source": []
  }
 ],
 "metadata": {
  "kernelspec": {
   "display_name": "Python 3 (ipykernel)",
   "language": "python",
   "name": "python3"
  },
  "language_info": {
   "codemirror_mode": {
    "name": "ipython",
    "version": 3
   },
   "file_extension": ".py",
   "mimetype": "text/x-python",
   "name": "python",
   "nbconvert_exporter": "python",
   "pygments_lexer": "ipython3",
   "version": "3.9.12"
  }
 },
 "nbformat": 4,
 "nbformat_minor": 5
}
