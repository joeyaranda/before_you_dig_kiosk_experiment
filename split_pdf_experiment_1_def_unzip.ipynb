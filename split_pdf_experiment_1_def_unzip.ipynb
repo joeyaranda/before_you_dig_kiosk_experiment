{
 "cells": [
  {
   "cell_type": "code",
   "execution_count": 1,
   "id": "fc3493e1",
   "metadata": {},
   "outputs": [],
   "source": [
    "import os\n",
    "import zipfile"
   ]
  },
  {
   "cell_type": "code",
   "execution_count": 2,
   "id": "997b330b",
   "metadata": {},
   "outputs": [],
   "source": [
    "def unzip(inputsrcfolder,outputrawfolder):\n",
    "\n",
    "        for dirpath, dirnames, filenames in os.walk(inputsrcfolder):\n",
    "            for f in filenames:\n",
    "                if f.endswith(\".zip\"):\n",
    "                    with zipfile.ZipFile(os.path.join(dirpath,f),'r') as zip_ref:\n",
    "                        zip_ref.extractall(outputrawfolder)"
   ]
  },
  {
   "cell_type": "code",
   "execution_count": 3,
   "id": "0a0d17cb",
   "metadata": {},
   "outputs": [
    {
     "name": "stdout",
     "output_type": "stream",
     "text": [
      "Done\n"
     ]
    }
   ],
   "source": [
    "inputsrcfolder = \"C:\\\\development\\\\before_you_dig_kiosk_experiment\"\n",
    "outputrawfolder = \"C:\\\\development\\\\before_you_dig_kiosk_experiment\\\\Raw\"\n",
    "\n",
    "unzip(inputsrcfolder,outputrawfolder)\n",
    "print(\"Done\")"
   ]
  },
  {
   "cell_type": "code",
   "execution_count": null,
   "id": "6716f09c",
   "metadata": {},
   "outputs": [],
   "source": []
  }
 ],
 "metadata": {
  "kernelspec": {
   "display_name": "Python 3 (ipykernel)",
   "language": "python",
   "name": "python3"
  },
  "language_info": {
   "codemirror_mode": {
    "name": "ipython",
    "version": 3
   },
   "file_extension": ".py",
   "mimetype": "text/x-python",
   "name": "python",
   "nbconvert_exporter": "python",
   "pygments_lexer": "ipython3",
   "version": "3.9.12"
  }
 },
 "nbformat": 4,
 "nbformat_minor": 5
}
