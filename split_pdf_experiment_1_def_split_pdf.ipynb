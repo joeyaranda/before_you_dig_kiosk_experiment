{
 "cells": [
  {
   "cell_type": "code",
   "execution_count": 7,
   "id": "73f0b77f",
   "metadata": {},
   "outputs": [],
   "source": [
    "#Import packages/modules\n",
    "import os\n",
    "import PyPDF2\n",
    "from PyPDF2 import PdfFileWriter, PdfFileReader\n",
    "import fitz\n",
    "import collections\n",
    "import zipfile\n",
    "import pandas as pd\n",
    "import shutil"
   ]
  },
  {
   "cell_type": "code",
   "execution_count": 8,
   "id": "43c143e1",
   "metadata": {},
   "outputs": [],
   "source": [
    "#Function to classify PDF files into NUOs and split them into separate pages\n",
    "\n",
    "def split_pdf(inputdir,outputdir):\n",
    "\n",
    "        outputdir = outputdir+\"\\\\\"+\"Processed_splitpdf\"\n",
    "        nuos = [\"Chorus\",\"City Link\",\"LINZ\",\"Spark\",\"Transpower\",\"Vector\",\"Vocus\",\"Vodafone\",\"Watercare\"]\n",
    "\n",
    "        a=0\n",
    "        multiple_nuo_list = []\n",
    "        for dirpath, dirnames, filenames in os.walk(inputdir):\n",
    "            for file in filenames:\n",
    "                folder_origin = ((dirpath.split(\"\\\\\"))[-1]).replace(\" \",\"\")\n",
    "                if file.endswith((\".pdf\",\".PDF\")):\n",
    "                    match = [ele for ele in nuos if ((ele.lower()).replace(\" \",\"\") in (file.lower()).replace(\" \",\"\"))]\n",
    "                    a+=1\n",
    "                    if len(match) == 0:\n",
    "                        filename0 = os.path.join(dirpath,file)\n",
    "                        inputpdf0 = PdfFileReader(open(filename0, \"rb\"),strict=False)\n",
    "                        print(a,file,\"Unclassified\")\n",
    "\n",
    "                        for i0 in range(inputpdf0.numPages):\n",
    "                            output0 = PdfFileWriter()\n",
    "                            output0.addPage(inputpdf0.getPage(i0))\n",
    "                            split_filename0 = ((file.split(\".\"))[0]).replace(\" \",\"\")\n",
    "                            concat_folder_filename0 = folder_origin+\"_Unclassified_\"+split_filename0\n",
    "                            os.makedirs(outputdir+\"\\\\\"+folder_origin+\"\\\\01_unclassified-pdf\",exist_ok=True)\n",
    "                            with open(outputdir+\"\\\\\"+folder_origin+\"\\\\01_unclassified-pdf\"+ \"\\\\\" +f\"{concat_folder_filename0}_%02d.pdf\" % (i0+1), \"wb\") as outputStream0:\n",
    "                                output0.write(outputStream0)\n",
    "                    \n",
    "                    elif len(match) == 1:\n",
    "                        filename = os.path.join(dirpath,file)\n",
    "                        inputpdf = PdfFileReader(open(filename, \"rb\"),strict=False)\n",
    "                        print(a,file,match[0])\n",
    "\n",
    "                        for i in range(inputpdf.numPages):\n",
    "                            output = PdfFileWriter()\n",
    "                            output.addPage(inputpdf.getPage(i))\n",
    "                            split_filename = ((file.split(\".\"))[0]).replace(\" \",\"\")\n",
    "                            concat_folder_filename = folder_origin+\"_\"+match[0]+\"_\"+split_filename\n",
    "                            os.makedirs(outputdir+\"\\\\\"+folder_origin+\"\\\\\"+match[0],exist_ok=True)\n",
    "                            with open(outputdir+\"\\\\\"+folder_origin+\"\\\\\"+match[0]+ \"\\\\\" +f\"{concat_folder_filename}_%02d.pdf\" % (i+1), \"wb\") as outputStream:\n",
    "                                output.write(outputStream)\n",
    "                    else:\n",
    "                        multiple_nuo_list.append(file)\n",
    "                    \n",
    "                else:\n",
    "                    os.makedirs(outputdir+\"\\\\\"+folder_origin+\"\\\\\"+\"00_non-pdf\",exist_ok=True)\n",
    "                    shutil.copyfile(os.path.join(dirpath,file),os.path.join(outputdir+\"\\\\\"+folder_origin+\"\\\\\"+\"00_non-pdf\",file))\n",
    "        print(multiple_nuo_list)"
   ]
  },
  {
   "cell_type": "code",
   "execution_count": 9,
   "id": "cb63c2fc",
   "metadata": {},
   "outputs": [
    {
     "name": "stdout",
     "output_type": "stream",
     "text": [
      "1 2042946_10436039_c_2022-06-20T030056.pdf.pdf Unclassified\n",
      "2 2042946_10436042_e_2022-06-20T030126.pdf.pdf Unclassified\n",
      "[]\n",
      "Done\n"
     ]
    }
   ],
   "source": [
    "#Run split_pdf function\n",
    "inputdir = \"C:\\\\development\\\\auckland_pointchev\\\\Raw\"\n",
    "outputdir = \"C:\\\\development\\\\auckland_pointchev\\\\\"\n",
    "\n",
    "split_pdf(inputdir,outputdir)\n",
    "print(\"Done\")"
   ]
  },
  {
   "cell_type": "code",
   "execution_count": null,
   "id": "e5efbcf7",
   "metadata": {},
   "outputs": [],
   "source": []
  },
  {
   "cell_type": "code",
   "execution_count": null,
   "id": "0fdea50f",
   "metadata": {},
   "outputs": [],
   "source": []
  }
 ],
 "metadata": {
  "kernelspec": {
   "display_name": "Python 3 (ipykernel)",
   "language": "python",
   "name": "python3"
  },
  "language_info": {
   "codemirror_mode": {
    "name": "ipython",
    "version": 3
   },
   "file_extension": ".py",
   "mimetype": "text/x-python",
   "name": "python",
   "nbconvert_exporter": "python",
   "pygments_lexer": "ipython3",
   "version": "3.9.12"
  }
 },
 "nbformat": 4,
 "nbformat_minor": 5
}
