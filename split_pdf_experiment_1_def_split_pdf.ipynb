{
 "cells": [
  {
   "cell_type": "code",
   "execution_count": 5,
   "id": "73f0b77f",
   "metadata": {},
   "outputs": [],
   "source": [
    "#Import packages/modules\n",
    "import os\n",
    "import PyPDF2\n",
    "from PyPDF2 import PdfFileWriter, PdfFileReader\n",
    "import fitz\n",
    "import collections\n",
    "import zipfile\n",
    "import pandas as pd\n",
    "import shutil"
   ]
  },
  {
   "cell_type": "code",
   "execution_count": 2,
   "id": "f0c1fc7d",
   "metadata": {},
   "outputs": [
    {
     "name": "stdout",
     "output_type": "stream",
     "text": [
      "cannot find .env file\n"
     ]
    }
   ],
   "source": [
    "%load_ext dotenv\n",
    "%dotenv"
   ]
  },
  {
   "cell_type": "code",
   "execution_count": 6,
   "id": "43c143e1",
   "metadata": {},
   "outputs": [],
   "source": [
    "#Function to classify PDF files into NUOs and split them into separate pages\n",
    "\n",
    "def split_pdf(inputdir,outputdir):\n",
    "\n",
    "        outputdir = outputdir+\"\\\\\"+\"Processed_splitpdf\"\n",
    "        nuos = [\"Chorus\",\"City Link\",\"LINZ\",\"Spark\",\"Transpower\",\"Vector\",\"Vocus\",\"Vodafone\",\"Watercare\"]\n",
    "\n",
    "        a=0\n",
    "        multiple_nuo_list = []\n",
    "        for dirpath, dirnames, filenames in os.walk(inputdir):\n",
    "            for file in filenames:\n",
    "                folder_origin = ((dirpath.split(\"\\\\\"))[-1]).replace(\" \",\"\")\n",
    "                if file.endswith((\".pdf\",\".PDF\")):\n",
    "                    match = [ele for ele in nuos if ((ele.lower()).replace(\" \",\"\") in (file.lower()).replace(\" \",\"\"))]\n",
    "                    a+=1\n",
    "                    if len(match) == 0:\n",
    "                        filename0 = os.path.join(dirpath,file)\n",
    "                        inputpdf0 = PdfFileReader(open(filename0, \"rb\"),strict=False)\n",
    "                        print(a,file,\"Unclassified\")\n",
    "\n",
    "                        for i0 in range(inputpdf0.numPages):\n",
    "                            output0 = PdfFileWriter()\n",
    "                            output0.addPage(inputpdf0.getPage(i0))\n",
    "                            split_filename0 = ((file.split(\".\"))[0]).replace(\" \",\"\")\n",
    "                            concat_folder_filename0 = folder_origin+\"_Unclassified_\"+split_filename0\n",
    "                            os.makedirs(outputdir+\"\\\\\"+folder_origin+\"\\\\01_unclassified-pdf\",exist_ok=True)\n",
    "                            with open(outputdir+\"\\\\\"+folder_origin+\"\\\\01_unclassified-pdf\"+ \"\\\\\" +f\"{concat_folder_filename0}_%02d.pdf\" % (i0+1), \"wb\") as outputStream0:\n",
    "                                output0.write(outputStream0)\n",
    "                    \n",
    "                    elif len(match) == 1:\n",
    "                        filename = os.path.join(dirpath,file)\n",
    "                        inputpdf = PdfFileReader(open(filename, \"rb\"),strict=False)\n",
    "                        print(a,file,match[0])\n",
    "\n",
    "                        for i in range(inputpdf.numPages):\n",
    "                            output = PdfFileWriter()\n",
    "                            output.addPage(inputpdf.getPage(i))\n",
    "                            split_filename = ((file.split(\".\"))[0]).replace(\" \",\"\")\n",
    "                            concat_folder_filename = folder_origin+\"_\"+match[0]+\"_\"+split_filename\n",
    "                            os.makedirs(outputdir+\"\\\\\"+folder_origin+\"\\\\\"+match[0],exist_ok=True)\n",
    "                            with open(outputdir+\"\\\\\"+folder_origin+\"\\\\\"+match[0]+ \"\\\\\" +f\"{concat_folder_filename}_%02d.pdf\" % (i+1), \"wb\") as outputStream:\n",
    "                                output.write(outputStream)\n",
    "                    else:\n",
    "                        multiple_nuo_list.append(file)\n",
    "                    \n",
    "                else:\n",
    "                    os.makedirs(outputdir+\"\\\\\"+folder_origin+\"\\\\\"+\"00_non-pdf\",exist_ok=True)\n",
    "                    shutil.copyfile(os.path.join(dirpath,file),os.path.join(outputdir+\"\\\\\"+folder_origin+\"\\\\\"+\"00_non-pdf\",file))\n",
    "        print(multiple_nuo_list)"
   ]
  },
  {
   "cell_type": "code",
   "execution_count": 7,
   "id": "cb63c2fc",
   "metadata": {},
   "outputs": [
    {
     "name": "stdout",
     "output_type": "stream",
     "text": [
      "1 10741815 - Watercare Overview.pdf Watercare\n",
      "2 10741818 - LINZ Plan.pdf LINZ\n",
      "3 10741818 - LINZ Response letter.pdf LINZ\n",
      "4 cc.pdf Unclassified\n",
      "5 Chorus_EmailBody.pdf Chorus\n",
      "6 LINZ_EmailBody.pdf LINZ\n",
      "7 LINZ_Survey Marks form.pdf LINZ\n",
      "8 Vector - Electricity_EmailBody.pdf Vector\n",
      "9 Vector - Gas Distribution_EmailBody.pdf Vector\n",
      "10 Vector - Gas Distribution_Gas Symbology.pdf Vector\n",
      "11 Watercare Disclaimer.pdf Watercare\n",
      "12 Watercare_EmailBody.pdf Watercare\n",
      "13 Watercare_Works Over Application form.pdf Watercare\n",
      "14 10741922 - Watercare Response Plan.pdf Watercare\n",
      "15 10741925 - LINZ Plan.pdf LINZ\n",
      "16 10741925 - LINZ Response letter.pdf LINZ\n",
      "17 cc.pdf Unclassified\n",
      "18 Chorus_EmailBody.pdf Chorus\n",
      "19 CityLink Limited_10741920 - CityLink Letter.pdf City Link\n",
      "20 CityLink Limited_10741920 - CityLink Plan.pdf City Link\n",
      "21 CityLink Limited_CityLink Service Plans Terms and Conditions.pdf City Link\n",
      "22 CityLink Limited_EmailBody.pdf City Link\n",
      "23 LINZ_EmailBody.pdf LINZ\n",
      "24 LINZ_Survey Marks form.pdf LINZ\n",
      "25 Spark New Zealand Trading Limited_10741919 Spark beforeUdig A3 Critical.pdf Spark\n",
      "26 Spark New Zealand Trading Limited_10741919.PDF Spark\n",
      "27 Spark New Zealand Trading Limited_EmailBody.pdf Spark\n",
      "28 Spark New Zealand Trading Limited_Spark Service Plan Letter.pdf Spark\n",
      "29 Transpower New Zealand Limited_10741916 - Job Sheet(1).pdf Transpower\n",
      "30 Transpower New Zealand Limited_10741916 - Job Sheet.pdf Transpower\n",
      "31 Transpower New Zealand Limited_10741916 - Transpower Fibre Plan(1).pdf Transpower\n",
      "32 Transpower New Zealand Limited_10741916 - Transpower Fibre Plan.pdf Transpower\n",
      "33 Transpower New Zealand Limited_10741916 - Transpower Power Plan(1).pdf Transpower\n",
      "34 Transpower New Zealand Limited_10741916 - Transpower Power Plan.pdf Transpower\n",
      "35 Transpower New Zealand Limited_10741916 - Transpower Response letter(1).pdf Transpower\n",
      "36 Transpower New Zealand Limited_10741916 - Transpower Response letter.pdf Transpower\n",
      "37 Transpower New Zealand Limited_EmailBody(1).pdf Transpower\n",
      "38 Transpower New Zealand Limited_EmailBody.pdf Transpower\n",
      "39 Transpower New Zealand Limited_Plants Lines Underground Cable Safety Guidelines(1).pdf Transpower\n",
      "40 Transpower New Zealand Limited_Plants Lines Underground Cable Safety Guidelines.pdf Transpower\n",
      "41 Vector - Communications_2100871_10741917_c_2022-10-05T203642.pdf.pdf Vector\n",
      "42 Vector - Communications_EmailBody.pdf Vector\n",
      "43 Vector - Electricity_2100871_10741923_e_2022-10-05T234833.pdf.pdf Vector\n",
      "44 Vector - Electricity_EmailBody.pdf Vector\n",
      "45 Vector - Gas Distribution_2100871_10741924_g_2022-10-05T204256.pdf.pdf Vector\n",
      "46 Vector - Gas Distribution_EmailBody.pdf Vector\n",
      "47 Vocus Group NZ Ltd_10741926 Vocus Group Plan.pdf Vocus\n",
      "48 Vocus Group NZ Ltd_EmailBody.pdf Vocus\n",
      "49 Vocus Group NZ Ltd_Vocus Worksite Cable Location Guidelines.pdf Vocus\n",
      "50 Vodafone New Zealand Ltd_10741921 - Vodafone Plan.pdf Vodafone\n",
      "51 Vodafone New Zealand Ltd_EmailBody.pdf Vodafone\n",
      "52 Watercare Disclaimer.pdf Watercare\n",
      "53 Watercare_EmailBody.pdf Watercare\n",
      "54 Watercare_Works Over Application form.pdf Watercare\n",
      "[]\n",
      "Done\n"
     ]
    }
   ],
   "source": [
    "#Run split_pdf function\n",
    "inputdir = \"C:\\\\development\\\\before_you_dig_kiosk_experiment\\\\Raw\" # Path to location of raw data\n",
    "outputdir = (os.path.split(inputdir))[0] # Automatically get the path on the same level of \"Raw\"\n",
    "\n",
    "split_pdf(inputdir,outputdir)\n",
    "print(\"Done\")"
   ]
  },
  {
   "cell_type": "code",
   "execution_count": null,
   "id": "e5efbcf7",
   "metadata": {},
   "outputs": [],
   "source": []
  },
  {
   "cell_type": "code",
   "execution_count": null,
   "id": "0fdea50f",
   "metadata": {},
   "outputs": [],
   "source": []
  }
 ],
 "metadata": {
  "kernelspec": {
   "display_name": "Python 3 (ipykernel)",
   "language": "python",
   "name": "python3"
  },
  "language_info": {
   "codemirror_mode": {
    "name": "ipython",
    "version": 3
   },
   "file_extension": ".py",
   "mimetype": "text/x-python",
   "name": "python",
   "nbconvert_exporter": "python",
   "pygments_lexer": "ipython3",
   "version": "3.9.12"
  }
 },
 "nbformat": 4,
 "nbformat_minor": 5
}
